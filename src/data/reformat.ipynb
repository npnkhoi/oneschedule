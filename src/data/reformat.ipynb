{
 "cells": [
  {
   "cell_type": "code",
   "execution_count": 1,
   "metadata": {},
   "outputs": [],
   "source": [
    "import json \n",
    "from datetime import datetime, timedelta\n",
    "import re\n",
    "import uuid"
   ]
  },
  {
   "cell_type": "code",
   "execution_count": 2,
   "metadata": {},
   "outputs": [],
   "source": [
    "def reformat_time(milliseconds):\n",
    "    seconds = milliseconds / 1000\n",
    "    return str(timedelta(seconds=seconds))"
   ]
  },
  {
   "cell_type": "code",
   "execution_count": 3,
   "metadata": {},
   "outputs": [],
   "source": [
    "def reformat_schedule(schedule_list):\n",
    "    reformatted_schedule = []\n",
    "    for schedule in schedule_list:\n",
    "        days = [day.strip() for day in schedule['schedule'].split(',') if day]\n",
    "        for day in days:\n",
    "            reformatted_schedule.append({\n",
    "                \"day\": day,\n",
    "                \"start_time\": reformat_time(schedule['startTime']),\n",
    "                \"end_time\": reformat_time(schedule['endTime'])\n",
    "            })\n",
    "    return reformatted_schedule"
   ]
  },
  {
   "cell_type": "code",
   "execution_count": 4,
   "metadata": {},
   "outputs": [],
   "source": [
    "def generate_short_uuid():\n",
    "    return str(uuid.uuid4())[:8]"
   ]
  },
  {
   "cell_type": "code",
   "execution_count": 5,
   "metadata": {},
   "outputs": [],
   "source": [
    "def decode_unicode(text):\n",
    "    return \"Please see OneStop for course information.\"\n",
    "    return text.encode('latin1').decode('unicode-escape')"
   ]
  },
  {
   "cell_type": "code",
   "execution_count": 9,
   "metadata": {},
   "outputs": [],
   "source": [
    "def process_course(course):\n",
    "    details_plain_text = decode_unicode(re.sub('<[^<]+?>', '', course['details']).replace('\\n', ' '))\n",
    "    \n",
    "    formatted_course = {\n",
    "        \"title\": course['name'],\n",
    "        \"id\": course['courseCode'].replace(\" \", \"\") + \"_Fall2024_\" + generate_short_uuid(),\n",
    "        \"credits\": '4',\n",
    "        \"instructor\": course['courseInstructor'],\n",
    "        \"url\": \"example.com\",\n",
    "        \"description\": details_plain_text,\n",
    "        \"categories\": course['courseCategories'],\n",
    "        \"schedule\": reformat_schedule(course['listCourseSchedule']) if course['listCourseSchedule'] else [],\n",
    "        \"location\": course['listCourseSchedule'][0]['facility'] if course['listCourseSchedule'] else \"\"\n",
    "    }\n",
    "    \n",
    "    return formatted_course"
   ]
  },
  {
   "cell_type": "code",
   "execution_count": 7,
   "metadata": {},
   "outputs": [],
   "source": [
    "def reformat_courses(input_file, output_file):\n",
    "    with open(input_file, 'r') as infile:\n",
    "        courses = json.load(infile)\n",
    "    \n",
    "    formatted_courses = [process_course(course) for course in courses]\n",
    "    \n",
    "    with open(output_file, 'w') as outfile:\n",
    "        json.dump(formatted_courses, outfile, indent=4, ensure_ascii=False)"
   ]
  },
  {
   "cell_type": "code",
   "execution_count": 10,
   "metadata": {},
   "outputs": [],
   "source": [
    "file_in = \"2024-2025_Spring_2025_Term_uncleaned.json\"\n",
    "file_out = \"2024-2025 Spring 2025 Term.json\"\n",
    "\n",
    "reformat_courses(file_in, file_out)"
   ]
  }
 ],
 "metadata": {
  "kernelspec": {
   "display_name": "Python 3",
   "language": "python",
   "name": "python3"
  },
  "language_info": {
   "codemirror_mode": {
    "name": "ipython",
    "version": 3
   },
   "file_extension": ".py",
   "mimetype": "text/x-python",
   "name": "python",
   "nbconvert_exporter": "python",
   "pygments_lexer": "ipython3",
   "version": "3.12.7"
  }
 },
 "nbformat": 4,
 "nbformat_minor": 2
}
